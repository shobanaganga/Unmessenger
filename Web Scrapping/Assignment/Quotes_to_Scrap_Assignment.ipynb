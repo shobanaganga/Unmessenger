{
 "cells": [
  {
   "cell_type": "markdown",
   "id": "1beb55d3",
   "metadata": {},
   "source": [
    "<h2 align='center'>Web Scrapping Assignment - 1</h2>"
   ]
  },
  {
   "cell_type": "markdown",
   "id": "93867cad",
   "metadata": {},
   "source": [
    "Web scraping is an automatic method to obtain large amounts of data from websites. Most of this data is unstructured data in an HTML format which is then converted into structured data in a spreadsheet or a database so that it can be used in various applications."
   ]
  },
  {
   "cell_type": "markdown",
   "id": "1f0fabb3",
   "metadata": {},
   "source": [
    "**Project Summary:**\n",
    "\n",
    "I Have done web scrapping to collect **quotes,author name and tags** data from the **\"Quotes to Scrap\"** website and saved the data into CSV file using **BeautifulSoup,requests,pandas python** libraries\n",
    "\n",
    "**Website Link** : https://quotes.toscrape.com/page/1/\n",
    "\n",
    "   "
   ]
  },
  {
   "cell_type": "markdown",
   "id": "50463bc1",
   "metadata": {},
   "source": [
    "**Requests** library is used to send HTTP requests using Python and returns the data \n",
    "\n",
    "**BeautifulSoup** library is used for parsing HTML and XML documents. It creates a parse tree for parsed pages that can be used to extract data from HTML\n",
    "\n",
    "**pandas** library is used for saving the scrapped data as csv file"
   ]
  },
  {
   "cell_type": "code",
   "execution_count": 1,
   "id": "a41d1a19",
   "metadata": {},
   "outputs": [],
   "source": [
    "#import requests, Beautifulsoup and pandas library\n",
    "import requests\n",
    "from bs4 import BeautifulSoup\n",
    "import pandas as pd"
   ]
  },
  {
   "cell_type": "code",
   "execution_count": 2,
   "id": "7d6dc097",
   "metadata": {},
   "outputs": [],
   "source": [
    "#scrap quotes, author, tag data and append it to list\n",
    "Quotes = []\n",
    "for i in range(1,11):\n",
    "    url = f'http://quotes.toscrape.com/page/{i}/'\n",
    "    response = requests.get(url)   \n",
    "    response = response.content\n",
    "    soup = BeautifulSoup(response,'html.parser')\n",
    "    contents = soup.find_all('div',class_ = 'quote')\n",
    "    for content in contents:\n",
    "        quote = content.find('span',class_='text').text    #quotes is present in html tag span and class text\n",
    "        quote = quote[1:-1]  \n",
    "        author = content.find('small',class_='author').text # author is present in html tag small and class author\n",
    "        tag = (content.find('meta'))['content']      # tags is present in html tag meta and content attribute \n",
    "        #tag = content.find('meta')\n",
    "        #tag = tag['content']\n",
    "        Quotes.append([quote,author,tag])  # appending scrapped data to list\n",
    "\n",
    "    "
   ]
  },
  {
   "cell_type": "code",
   "execution_count": 3,
   "id": "37a069d5",
   "metadata": {},
   "outputs": [
    {
     "data": {
      "text/html": [
       "<div>\n",
       "<style scoped>\n",
       "    .dataframe tbody tr th:only-of-type {\n",
       "        vertical-align: middle;\n",
       "    }\n",
       "\n",
       "    .dataframe tbody tr th {\n",
       "        vertical-align: top;\n",
       "    }\n",
       "\n",
       "    .dataframe thead th {\n",
       "        text-align: right;\n",
       "    }\n",
       "</style>\n",
       "<table border=\"1\" class=\"dataframe\">\n",
       "  <thead>\n",
       "    <tr style=\"text-align: right;\">\n",
       "      <th></th>\n",
       "      <th>Quotes</th>\n",
       "      <th>Author</th>\n",
       "      <th>Tags</th>\n",
       "    </tr>\n",
       "  </thead>\n",
       "  <tbody>\n",
       "    <tr>\n",
       "      <th>0</th>\n",
       "      <td>The world as we have created it is a process o...</td>\n",
       "      <td>Albert Einstein</td>\n",
       "      <td>change,deep-thoughts,thinking,world</td>\n",
       "    </tr>\n",
       "    <tr>\n",
       "      <th>1</th>\n",
       "      <td>It is our choices, Harry, that show what we tr...</td>\n",
       "      <td>J.K. Rowling</td>\n",
       "      <td>abilities,choices</td>\n",
       "    </tr>\n",
       "    <tr>\n",
       "      <th>2</th>\n",
       "      <td>There are only two ways to live your life. One...</td>\n",
       "      <td>Albert Einstein</td>\n",
       "      <td>inspirational,life,live,miracle,miracles</td>\n",
       "    </tr>\n",
       "    <tr>\n",
       "      <th>3</th>\n",
       "      <td>The person, be it gentleman or lady, who has n...</td>\n",
       "      <td>Jane Austen</td>\n",
       "      <td>aliteracy,books,classic,humor</td>\n",
       "    </tr>\n",
       "    <tr>\n",
       "      <th>4</th>\n",
       "      <td>Imperfection is beauty, madness is genius and ...</td>\n",
       "      <td>Marilyn Monroe</td>\n",
       "      <td>be-yourself,inspirational</td>\n",
       "    </tr>\n",
       "    <tr>\n",
       "      <th>...</th>\n",
       "      <td>...</td>\n",
       "      <td>...</td>\n",
       "      <td>...</td>\n",
       "    </tr>\n",
       "    <tr>\n",
       "      <th>95</th>\n",
       "      <td>You never really understand a person until you...</td>\n",
       "      <td>Harper Lee</td>\n",
       "      <td>better-life-empathy</td>\n",
       "    </tr>\n",
       "    <tr>\n",
       "      <th>96</th>\n",
       "      <td>You have to write the book that wants to be wr...</td>\n",
       "      <td>Madeleine L'Engle</td>\n",
       "      <td>books,children,difficult,grown-ups,write,write...</td>\n",
       "    </tr>\n",
       "    <tr>\n",
       "      <th>97</th>\n",
       "      <td>Never tell the truth to people who are not wor...</td>\n",
       "      <td>Mark Twain</td>\n",
       "      <td>truth</td>\n",
       "    </tr>\n",
       "    <tr>\n",
       "      <th>98</th>\n",
       "      <td>A person's a person, no matter how small.</td>\n",
       "      <td>Dr. Seuss</td>\n",
       "      <td>inspirational</td>\n",
       "    </tr>\n",
       "    <tr>\n",
       "      <th>99</th>\n",
       "      <td>... a mind needs books as a sword needs a whet...</td>\n",
       "      <td>George R.R. Martin</td>\n",
       "      <td>books,mind</td>\n",
       "    </tr>\n",
       "  </tbody>\n",
       "</table>\n",
       "<p>100 rows × 3 columns</p>\n",
       "</div>"
      ],
      "text/plain": [
       "                                               Quotes              Author  \\\n",
       "0   The world as we have created it is a process o...     Albert Einstein   \n",
       "1   It is our choices, Harry, that show what we tr...        J.K. Rowling   \n",
       "2   There are only two ways to live your life. One...     Albert Einstein   \n",
       "3   The person, be it gentleman or lady, who has n...         Jane Austen   \n",
       "4   Imperfection is beauty, madness is genius and ...      Marilyn Monroe   \n",
       "..                                                ...                 ...   \n",
       "95  You never really understand a person until you...          Harper Lee   \n",
       "96  You have to write the book that wants to be wr...   Madeleine L'Engle   \n",
       "97  Never tell the truth to people who are not wor...          Mark Twain   \n",
       "98          A person's a person, no matter how small.           Dr. Seuss   \n",
       "99  ... a mind needs books as a sword needs a whet...  George R.R. Martin   \n",
       "\n",
       "                                                 Tags  \n",
       "0                 change,deep-thoughts,thinking,world  \n",
       "1                                   abilities,choices  \n",
       "2            inspirational,life,live,miracle,miracles  \n",
       "3                       aliteracy,books,classic,humor  \n",
       "4                           be-yourself,inspirational  \n",
       "..                                                ...  \n",
       "95                                better-life-empathy  \n",
       "96  books,children,difficult,grown-ups,write,write...  \n",
       "97                                              truth  \n",
       "98                                      inspirational  \n",
       "99                                         books,mind  \n",
       "\n",
       "[100 rows x 3 columns]"
      ]
     },
     "execution_count": 3,
     "metadata": {},
     "output_type": "execute_result"
    }
   ],
   "source": [
    "# create dataframe with scrapped data using the list and assign proper column names\n",
    "\n",
    "df = pd.DataFrame(Quotes,columns=[\"Quotes\",\"Author\",\"Tags\"])\n",
    "df"
   ]
  },
  {
   "cell_type": "code",
   "execution_count": 4,
   "id": "1f245259",
   "metadata": {},
   "outputs": [],
   "source": [
    "# save the data frame to CSV file\n",
    "\n",
    "df.to_csv(\"Quotes_Scraped.csv\",index=False)"
   ]
  },
  {
   "cell_type": "code",
   "execution_count": null,
   "id": "0b681066",
   "metadata": {},
   "outputs": [],
   "source": []
  }
 ],
 "metadata": {
  "kernelspec": {
   "display_name": "Python 3 (ipykernel)",
   "language": "python",
   "name": "python3"
  },
  "language_info": {
   "codemirror_mode": {
    "name": "ipython",
    "version": 3
   },
   "file_extension": ".py",
   "mimetype": "text/x-python",
   "name": "python",
   "nbconvert_exporter": "python",
   "pygments_lexer": "ipython3",
   "version": "3.9.12"
  }
 },
 "nbformat": 4,
 "nbformat_minor": 5
}
